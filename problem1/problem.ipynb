{
 "cells": [
  {
   "cell_type": "markdown",
   "id": "cb2d1785",
   "metadata": {},
   "source": [
    "# 1. Two Sum\n",
    "\n",
    "        Given an array of integers nums and an integer target, return indices of the two numbers such that they add up to target.\n",
    "\n",
    "        You may assume that each input would have exactly one solution, and you may not use the same element twice.\n",
    "\n",
    "        You can return the answer in any order.\n",
    "\n",
    "        \n",
    "\n",
    "        Example 1:\n",
    "\n",
    "            Input: nums = [2,7,11,15], target = 9\n",
    "            Output: [0,1]\n",
    "            Explanation: Because nums[0] + nums[1] == 9, we return [0, 1].\n",
    "            \n",
    "        Example 2:\n",
    "\n",
    "            Input: nums = [3,2,4], target = 6\n",
    "            Output: [1,2]\n",
    "            Example 3:\n",
    "\n",
    "            Input: nums = [3,3], target = 6\n",
    "            Output: [0,1]\n",
    "        \n",
    "\n",
    "        Constraints:\n",
    "\n",
    "            2 <= nums.length <= 104\n",
    "            -109 <= nums[i] <= 109\n",
    "            -109 <= target <= 109\n",
    "            Only one valid answer exists.\n",
    "        \n",
    "\n",
    "### Follow-up: Can you come up with an algorithm that is less than O(n2) time complexity?"
   ]
  },
  {
   "cell_type": "markdown",
   "id": "e2457799",
   "metadata": {},
   "source": [
    "### Soltion 1"
   ]
  },
  {
   "cell_type": "code",
   "execution_count": null,
   "id": "93613094",
   "metadata": {},
   "outputs": [],
   "source": [
    "\n",
    "from typing import List\n",
    "\n",
    "class Solution:\n",
    "    def twoSum(self, nums: List[int], target: int) -> List[int]:\n",
    "        for ind_i, i in enumerate(nums):\n",
    "            for ind_j, j in enumerate(nums):\n",
    "                if ind_i == ind_j:\n",
    "                    continue\n",
    "                elif i + j == target:\n",
    "                    return [ind_i, ind_j]"
   ]
  },
  {
   "cell_type": "markdown",
   "id": "1a1d36ec",
   "metadata": {},
   "source": []
  },
  {
   "cell_type": "markdown",
   "id": "b11fbc74",
   "metadata": {},
   "source": []
  }
 ],
 "metadata": {
  "kernelspec": {
   "display_name": "leetcode",
   "language": "python",
   "name": "python3"
  },
  "language_info": {
   "codemirror_mode": {
    "name": "ipython",
    "version": 3
   },
   "file_extension": ".py",
   "mimetype": "text/x-python",
   "name": "python",
   "nbconvert_exporter": "python",
   "pygments_lexer": "ipython3",
   "version": "3.12.11"
  }
 },
 "nbformat": 4,
 "nbformat_minor": 5
}
