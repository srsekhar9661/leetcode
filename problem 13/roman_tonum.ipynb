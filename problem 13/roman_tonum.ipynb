{
 "cells": [
  {
   "cell_type": "code",
   "execution_count": 3,
   "id": "cd52b710",
   "metadata": {},
   "outputs": [],
   "source": [
    "class Solution:\n",
    "    def romanToInt(self, s:str) -> int:\n",
    "        roman = {\n",
    "            'I' : 1,\n",
    "            'V' : 5,\n",
    "            'X' : 10,\n",
    "            'L' : 50,\n",
    "            'C' : 100,\n",
    "            'D' : 500,\n",
    "            'M' : 1000\n",
    "        }\n",
    "\n",
    "        total = 0\n",
    "        n = len(s)\n",
    "\n",
    "        for i in range(n):\n",
    "            current_value = roman[s[i]]\n",
    "\n",
    "            if i == n-1 or current_value >= roman[s[i+1]]:\n",
    "                total += current_value\n",
    "            else:\n",
    "                total -= current_value\n",
    "        return total"
   ]
  },
  {
   "cell_type": "code",
   "execution_count": 7,
   "id": "2d44d4a8",
   "metadata": {},
   "outputs": [
    {
     "name": "stdout",
     "output_type": "stream",
     "text": [
      "8\n"
     ]
    }
   ],
   "source": [
    "print(Solution().romanToInt('VIII'))"
   ]
  },
  {
   "cell_type": "code",
   "execution_count": 10,
   "id": "c55a8de9",
   "metadata": {},
   "outputs": [],
   "source": [
    "strs = [\"dog\",\"racecar\",\"car\"]\n",
    "a = [(len(s), s) for s in strs]\n",
    "a.sort(key=lambda x: x[0])\n",
    "\n",
    "\n"
   ]
  },
  {
   "cell_type": "code",
   "execution_count": 11,
   "id": "ae99d302",
   "metadata": {},
   "outputs": [
    {
     "data": {
      "text/plain": [
       "[(3, 'dog'), (3, 'car'), (7, 'racecar')]"
      ]
     },
     "execution_count": 11,
     "metadata": {},
     "output_type": "execute_result"
    }
   ],
   "source": [
    "a"
   ]
  },
  {
   "cell_type": "code",
   "execution_count": null,
   "id": "112651b7",
   "metadata": {},
   "outputs": [],
   "source": [
    "k = a[0]"
   ]
  }
 ],
 "metadata": {
  "kernelspec": {
   "display_name": "leetcode",
   "language": "python",
   "name": "python3"
  },
  "language_info": {
   "codemirror_mode": {
    "name": "ipython",
    "version": 3
   },
   "file_extension": ".py",
   "mimetype": "text/x-python",
   "name": "python",
   "nbconvert_exporter": "python",
   "pygments_lexer": "ipython3",
   "version": "3.12.11"
  }
 },
 "nbformat": 4,
 "nbformat_minor": 5
}
