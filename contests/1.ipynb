{
 "cells": [
  {
   "cell_type": "code",
   "execution_count": 8,
   "id": "7bac2f32",
   "metadata": {},
   "outputs": [],
   "source": [
    "from typing import List\n",
    "\n",
    "class Solution:\n",
    "    def findLucky(self, arr: List[int]) -> int:\n",
    "        from collections import Counter\n",
    "        counter = Counter(arr)\n",
    "        lucky_arr = {}\n",
    "        for element, count in counter.items():\n",
    "            if element == count:\n",
    "                lucky_arr[element] = count\n",
    "        \n",
    "        print(lucky_arr)\n",
    "        if lucky_arr.items():\n",
    "            return max(lucky_arr.keys())\n",
    "        else: \n",
    "            return -1"
   ]
  },
  {
   "cell_type": "code",
   "execution_count": 9,
   "id": "9ccd68a7",
   "metadata": {},
   "outputs": [
    {
     "name": "stdout",
     "output_type": "stream",
     "text": [
      "{2: 2}\n",
      "2\n"
     ]
    }
   ],
   "source": [
    "arr = [2,2,3,4]\n",
    "s = Solution()\n",
    "print(s.findLucky(arr))"
   ]
  },
  {
   "cell_type": "code",
   "execution_count": 11,
   "id": "bb420040",
   "metadata": {},
   "outputs": [],
   "source": [
    "from typing import List\n",
    "\n",
    "class Solution:\n",
    "    def findLucky(self, arr: List[int]) -> int:\n",
    "        from collections import Counter\n",
    "        counter = Counter(arr)\n",
    "        l = [key for key, val in counter.items() if key == val]\n",
    "        if l:\n",
    "            return max(l)\n",
    "        else :\n",
    "            return -1\n",
    "        "
   ]
  },
  {
   "cell_type": "code",
   "execution_count": 12,
   "id": "522dd234",
   "metadata": {},
   "outputs": [
    {
     "name": "stdout",
     "output_type": "stream",
     "text": [
      "2\n"
     ]
    }
   ],
   "source": [
    "arr = [2,2,3,4]\n",
    "s = Solution()\n",
    "print(s.findLucky(arr))"
   ]
  },
  {
   "cell_type": "code",
   "execution_count": null,
   "id": "95051077",
   "metadata": {},
   "outputs": [],
   "source": []
  }
 ],
 "metadata": {
  "kernelspec": {
   "display_name": "leetcode",
   "language": "python",
   "name": "python3"
  },
  "language_info": {
   "codemirror_mode": {
    "name": "ipython",
    "version": 3
   },
   "file_extension": ".py",
   "mimetype": "text/x-python",
   "name": "python",
   "nbconvert_exporter": "python",
   "pygments_lexer": "ipython3",
   "version": "3.12.11"
  }
 },
 "nbformat": 4,
 "nbformat_minor": 5
}
