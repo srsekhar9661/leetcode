{
 "cells": [
  {
   "cell_type": "markdown",
   "id": "16bbbadd",
   "metadata": {},
   "source": [
    "Given a string s, find the length of the longest substring without duplicate characters.\n",
    "\n",
    " \n",
    "\n",
    "Example 1:\n",
    "\n",
    "Input: s = \"abcabcbb\"\n",
    "Output: 3\n",
    "Explanation: The answer is \"abc\", with the length of 3.\n",
    "Example 2:\n",
    "\n",
    "Input: s = \"bbbbb\"\n",
    "Output: 1\n",
    "Explanation: The answer is \"b\", with the length of 1.\n",
    "Example 3:\n",
    "\n",
    "Input: s = \"pwwkew\"\n",
    "Output: 3\n",
    "Explanation: The answer is \"wke\", with the length of 3.\n",
    "Notice that the answer must be a substring, \"pwke\" is a subsequence and not a substring.\n",
    " \n",
    "\n",
    "Constraints:\n",
    "\n",
    "0 <= s.length <= 5 * 104\n",
    "s consists of English letters, digits, symbols and spaces."
   ]
  },
  {
   "cell_type": "code",
   "execution_count": 1,
   "id": "f5e0fa0f",
   "metadata": {},
   "outputs": [],
   "source": [
    "class Solution:\n",
    "    def lengthOfLongestSubstring(self, s: str) -> int:\n",
    "        char_map = {}\n",
    "        left = 0\n",
    "        max_length = 0\n",
    "\n",
    "        for right in range(len(s)):\n",
    "            if s[right] in char_map and char_map[s[right]] >= left:\n",
    "                left = char_map[s[right]] + 1\n",
    "            \n",
    "            char_map[s[right]] = right\n",
    "            max_length = max(max_length, right-left +1)\n",
    "        return max_length"
   ]
  },
  {
   "cell_type": "code",
   "execution_count": 3,
   "id": "b8bd1fec",
   "metadata": {},
   "outputs": [],
   "source": [
    "a  =Solution()\n",
    "fun = a.lengthOfLongestSubstring"
   ]
  },
  {
   "cell_type": "code",
   "execution_count": 4,
   "id": "595165c4",
   "metadata": {},
   "outputs": [
    {
     "data": {
      "text/plain": [
       "3"
      ]
     },
     "execution_count": 4,
     "metadata": {},
     "output_type": "execute_result"
    }
   ],
   "source": [
    "fun(\"abcabcbb\")"
   ]
  },
  {
   "cell_type": "code",
   "execution_count": null,
   "id": "309efb06",
   "metadata": {},
   "outputs": [],
   "source": []
  }
 ],
 "metadata": {
  "kernelspec": {
   "display_name": "leetcode",
   "language": "python",
   "name": "python3"
  },
  "language_info": {
   "codemirror_mode": {
    "name": "ipython",
    "version": 3
   },
   "file_extension": ".py",
   "mimetype": "text/x-python",
   "name": "python",
   "nbconvert_exporter": "python",
   "pygments_lexer": "ipython3",
   "version": "3.12.11"
  }
 },
 "nbformat": 4,
 "nbformat_minor": 5
}
