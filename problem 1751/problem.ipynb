{
 "cells": [
  {
   "cell_type": "code",
   "execution_count": null,
   "id": "f15d1c72",
   "metadata": {},
   "outputs": [
    {
     "name": "stdout",
     "output_type": "stream",
     "text": [
      "> \u001b[32mc:\\users\\srsekhar\\appdata\\local\\temp\\ipykernel_10092\\489968354.py\u001b[39m(\u001b[92m17\u001b[39m)\u001b[36mmaxValue\u001b[39m\u001b[34m()\u001b[39m\n",
      "\n"
     ]
    },
    {
     "name": "stdout",
     "output_type": "stream",
     "text": [
      "*** NameError: name 'Escape' is not defined\n"
     ]
    }
   ],
   "source": [
    "from typing import List\n",
    "import bisect\n",
    "\n",
    "# Alternative solution using memoization (often more intuitive)\n",
    "class SolutionMemo:\n",
    "    def maxValue(self, events: List[List[int]], k: int) -> int:\n",
    "        \"\"\"\n",
    "        Alternative solution using memoization (top-down DP)\n",
    "        \"\"\"\n",
    "        events.sort(key=lambda x: x[1])  # Sort by end time\n",
    "        n = len(events)\n",
    "        \n",
    "        # Memoization cache\n",
    "        memo = {}\n",
    "        import ipdb;ipdb.set_trace(context=15)\n",
    "        def find_next_event(current_end, start_idx):\n",
    "            \"\"\"Find the next event that starts after current_end\"\"\"\n",
    "            for i in range(start_idx, n):\n",
    "                if events[i][0] > current_end:\n",
    "                    return i\n",
    "            return n\n",
    "        \n",
    "        def dp(idx, remaining_events):\n",
    "            \"\"\"\n",
    "            Return max value starting from event idx with remaining_events left\n",
    "            \"\"\"\n",
    "            if idx >= n or remaining_events == 0:\n",
    "                return 0\n",
    "            \n",
    "            if (idx, remaining_events) in memo:\n",
    "                return memo[(idx, remaining_events)]\n",
    "            \n",
    "            # Option 1: Skip current event\n",
    "            result = dp(idx + 1, remaining_events)\n",
    "            \n",
    "            # Option 2: Take current event\n",
    "            next_idx = find_next_event(events[idx][1], idx + 1)\n",
    "            result = max(result, events[idx][2] + dp(next_idx, remaining_events - 1))\n",
    "            \n",
    "            memo[(idx, remaining_events)] = result\n",
    "            return result\n",
    "        \n",
    "        return dp(0, k)\n",
    "\n",
    "# Test cases\n",
    "def test_solution():\n",
    "    sol = Solution()\n",
    "    \n",
    "    # Test case 1\n",
    "    events1 = [[1,2,4],[3,4,3],[2,3,1]]\n",
    "    k1 = 2\n",
    "    print(f\"Test 1: {sol.maxValue(events1, k1)}\")  # Expected: 7\n",
    "    \n",
    "    # Test case 2\n",
    "    events2 = [[1,2,4],[3,4,3],[2,3,10]]\n",
    "    k2 = 2\n",
    "    print(f\"Test 2: {sol.maxValue(events2, k2)}\")  # Expected: 10\n",
    "    \n",
    "    # Test case 3\n",
    "    events3 = [[1,1,1],[2,2,2],[3,3,3],[4,4,4]]\n",
    "    k3 = 3\n",
    "    print(f\"Test 3: {sol.maxValue(events3, k3)}\")  # Expected: 9\n",
    "\n",
    "if __name__ == \"__main__\":\n",
    "    test_solution()"
   ]
  },
  {
   "cell_type": "code",
   "execution_count": null,
   "id": "d1afadd8",
   "metadata": {},
   "outputs": [
    {
     "name": "stdout",
     "output_type": "stream",
     "text": [
      "Collecting ipdb\n",
      "  Using cached ipdb-0.13.13-py3-none-any.whl.metadata (14 kB)\n",
      "Requirement already satisfied: ipython>=7.31.1 in c:\\users\\srsekhar\\anaconda3\\envs\\leetcode\\lib\\site-packages (from ipdb) (9.4.0)\n",
      "Requirement already satisfied: decorator in c:\\users\\srsekhar\\anaconda3\\envs\\leetcode\\lib\\site-packages (from ipdb) (5.2.1)\n",
      "Requirement already satisfied: colorama in c:\\users\\srsekhar\\anaconda3\\envs\\leetcode\\lib\\site-packages (from ipython>=7.31.1->ipdb) (0.4.6)\n",
      "Requirement already satisfied: ipython-pygments-lexers in c:\\users\\srsekhar\\anaconda3\\envs\\leetcode\\lib\\site-packages (from ipython>=7.31.1->ipdb) (1.1.1)\n",
      "Requirement already satisfied: jedi>=0.16 in c:\\users\\srsekhar\\anaconda3\\envs\\leetcode\\lib\\site-packages (from ipython>=7.31.1->ipdb) (0.19.2)\n",
      "Requirement already satisfied: matplotlib-inline in c:\\users\\srsekhar\\anaconda3\\envs\\leetcode\\lib\\site-packages (from ipython>=7.31.1->ipdb) (0.1.7)\n",
      "Requirement already satisfied: prompt_toolkit<3.1.0,>=3.0.41 in c:\\users\\srsekhar\\anaconda3\\envs\\leetcode\\lib\\site-packages (from ipython>=7.31.1->ipdb) (3.0.51)\n",
      "Requirement already satisfied: pygments>=2.4.0 in c:\\users\\srsekhar\\anaconda3\\envs\\leetcode\\lib\\site-packages (from ipython>=7.31.1->ipdb) (2.19.2)\n",
      "Requirement already satisfied: stack_data in c:\\users\\srsekhar\\anaconda3\\envs\\leetcode\\lib\\site-packages (from ipython>=7.31.1->ipdb) (0.6.3)\n",
      "Requirement already satisfied: traitlets>=5.13.0 in c:\\users\\srsekhar\\anaconda3\\envs\\leetcode\\lib\\site-packages (from ipython>=7.31.1->ipdb) (5.14.3)\n",
      "Requirement already satisfied: wcwidth in c:\\users\\srsekhar\\anaconda3\\envs\\leetcode\\lib\\site-packages (from prompt_toolkit<3.1.0,>=3.0.41->ipython>=7.31.1->ipdb) (0.2.13)\n",
      "Requirement already satisfied: parso<0.9.0,>=0.8.4 in c:\\users\\srsekhar\\anaconda3\\envs\\leetcode\\lib\\site-packages (from jedi>=0.16->ipython>=7.31.1->ipdb) (0.8.4)\n",
      "Requirement already satisfied: executing>=1.2.0 in c:\\users\\srsekhar\\anaconda3\\envs\\leetcode\\lib\\site-packages (from stack_data->ipython>=7.31.1->ipdb) (2.2.0)\n",
      "Requirement already satisfied: asttokens>=2.1.0 in c:\\users\\srsekhar\\anaconda3\\envs\\leetcode\\lib\\site-packages (from stack_data->ipython>=7.31.1->ipdb) (3.0.0)\n",
      "Requirement already satisfied: pure_eval in c:\\users\\srsekhar\\anaconda3\\envs\\leetcode\\lib\\site-packages (from stack_data->ipython>=7.31.1->ipdb) (0.2.3)\n",
      "Using cached ipdb-0.13.13-py3-none-any.whl (12 kB)\n",
      "Installing collected packages: ipdb\n",
      "Successfully installed ipdb-0.13.13\n"
     ]
    }
   ],
   "source": []
  },
  {
   "cell_type": "code",
   "execution_count": null,
   "id": "84cdb661",
   "metadata": {},
   "outputs": [],
   "source": []
  }
 ],
 "metadata": {
  "kernelspec": {
   "display_name": "leetcode",
   "language": "python",
   "name": "python3"
  },
  "language_info": {
   "codemirror_mode": {
    "name": "ipython",
    "version": 3
   },
   "file_extension": ".py",
   "mimetype": "text/x-python",
   "name": "python",
   "nbconvert_exporter": "python",
   "pygments_lexer": "ipython3",
   "version": "3.12.11"
  }
 },
 "nbformat": 4,
 "nbformat_minor": 5
}
